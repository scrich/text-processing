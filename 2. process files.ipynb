{
 "cells": [
  {
   "cell_type": "markdown",
   "metadata": {},
   "source": [
    "# Open files in folder, process, save output files\n"
   ]
  },
  {
   "cell_type": "markdown",
   "metadata": {},
   "source": [
    "## Initialisation\n",
    "Load required modules"
   ]
  },
  {
   "cell_type": "code",
   "execution_count": 98,
   "metadata": {},
   "outputs": [
    {
     "data": {
      "text/plain": [
       "'0.24.2'"
      ]
     },
     "execution_count": 98,
     "metadata": {},
     "output_type": "execute_result"
    }
   ],
   "source": [
    "# initialisation\n",
    "\n",
    "import pandas as pd\n",
    "pd.__version__"
   ]
  },
  {
   "cell_type": "code",
   "execution_count": 99,
   "metadata": {},
   "outputs": [
    {
     "data": {
      "text/plain": [
       "'2.2.1'"
      ]
     },
     "execution_count": 99,
     "metadata": {},
     "output_type": "execute_result"
    }
   ],
   "source": [
    "import re\n",
    "re.__version__"
   ]
  },
  {
   "cell_type": "code",
   "execution_count": 100,
   "metadata": {},
   "outputs": [
    {
     "data": {
      "text/plain": [
       "'1.0'"
      ]
     },
     "execution_count": 100,
     "metadata": {},
     "output_type": "execute_result"
    }
   ],
   "source": [
    "import csv\n",
    "csv.__version__"
   ]
  },
  {
   "cell_type": "markdown",
   "metadata": {},
   "source": [
    "## Define functions"
   ]
  },
  {
   "cell_type": "code",
   "execution_count": 101,
   "metadata": {},
   "outputs": [],
   "source": [
    "# define the transformation function for the mapping.\n",
    "\n",
    "def process_body(body_input):\n",
    "    '''\n",
    "    we want to do multiple cleansing activities on the data\n",
    "    then return all the data\n",
    "    '''\n",
    "    result = body_input\n",
    "    \n",
    "    # remove all tags\n",
    "    result = re.sub(\"<[\\s\\S\\n]+?>\",\"\",result)\n",
    "\n",
    "    # remove line breaks\n",
    "    result = re.sub(\"\\n\",\" \",result)\n",
    "    result = re.sub(\"\\r\",\" \",result)\n",
    "    \n",
    "    # remove numbers\n",
    "    result = re.sub(\"\\d\",\"\",result)\n",
    "    \n",
    "    # replace tab with a space\n",
    "    result = re.sub(\"\\t\",\" \",result)\n",
    "    \n",
    "    # replace encoded html characters\n",
    "    # replace nbsp with space\n",
    "    result = result.replace(\"&nbsp;\",\" \")\n",
    "    \n",
    "    # replace ampersand with 'and'\n",
    "    result = result.replace(\"&amp;\",\"and\")\n",
    "    \n",
    "    # replace encoded fancy quotes with space\n",
    "    result = result.replace(\"”\",\" \")\n",
    "    result = result.replace(\"“\",\" \")\n",
    "    result = result.replace(\"‘\",\" \")\n",
    "    \n",
    "    # replace encoded quotes with space\n",
    "    result = result.replace(\"&rsquo;\",\" \")\n",
    "    result = result.replace(\"&lsquo;\",\" \")\n",
    "    result = result.replace(\"&rdquo;\",\" \")\n",
    "    result = result.replace(\"&ldquo;\",\" \")\n",
    "    \n",
    "    # replace bullet with space\n",
    "    result = result.replace(\"•\",\" \")\n",
    "    \n",
    "    # replace £ sign with space\n",
    "    result = result.replace(\"£\",\" \")\n",
    "    \n",
    "    # replace % sign with 'percent'\n",
    "    result = result.replace(\"%\",\"percent\")\n",
    "    \n",
    "    ## old stories may have other umlauts and accented characters in, \n",
    "    ## but the new stories don't seem to have this\n",
    "    ## so I shall ignore the characters for now\n",
    "    \n",
    "    # remove any double quotes, they mess with the csv format\n",
    "    result = result.replace('\"','')\n",
    "    \n",
    "    \n",
    "    # make everything lower case\n",
    "    result = result.lower()\n",
    "    \n",
    "    # return the cleaned result\n",
    "    return result"
   ]
  },
  {
   "cell_type": "code",
   "execution_count": 102,
   "metadata": {},
   "outputs": [],
   "source": [
    "# write out to csv\n",
    "# make a DataFrame with the clean body column, not the old one\n",
    "def writefile(df, filename):\n",
    "    '''\n",
    "    Write the file to disk using \n",
    "        dataframe df\n",
    "        filename \n",
    "    '''\n",
    "    df_out = pd.DataFrame(\n",
    "        {\n",
    "            \"Body\":df.bodyclean,\n",
    "            \"Category\":df.Category\n",
    "        }\n",
    "    )\n",
    "\n",
    "    # write out\n",
    "    df_out.Category = df.Category.astype(str)\n",
    "    df_out.to_csv('./'+filename+'_out.csv', index=False, quoting=csv.QUOTE_NONNUMERIC)"
   ]
  },
  {
   "cell_type": "code",
   "execution_count": 103,
   "metadata": {},
   "outputs": [],
   "source": [
    "def processfile(filename):\n",
    "    '''\n",
    "    For the provided filename, calls functions to \n",
    "        open the file\n",
    "        process the file\n",
    "        save the file        \n",
    "    '''\n",
    "    df = pd.DataFrame\n",
    "    df = pd.read_csv(\"./\"+filename+\".csv\")\n",
    "    df['bodyclean'] = df.Body.map(lambda x:process_body(x))\n",
    "    writefile(df, filename)"
   ]
  },
  {
   "cell_type": "markdown",
   "metadata": {},
   "source": [
    "## Set up instance variables\n",
    "ie, the list of files to process"
   ]
  },
  {
   "cell_type": "code",
   "execution_count": 104,
   "metadata": {},
   "outputs": [
    {
     "name": "stdout",
     "output_type": "stream",
     "text": [
      "news_bodytext_20191002_prep\n",
      "news_unclassified_prep\n",
      "news20190320_prep\n"
     ]
    }
   ],
   "source": [
    "# fileList = [\"news20190320\",\"news_uncategorised\"]\n",
    "fileList = [\n",
    "    \"news_bodytext_20191002_prep\"\n",
    "    ,\"news_unclassified_prep\",\n",
    "    \"news20190320_prep\"]\n",
    "\n",
    "for file in fileList:\n",
    "    print (file)"
   ]
  },
  {
   "cell_type": "markdown",
   "metadata": {},
   "source": [
    "## Process the data"
   ]
  },
  {
   "cell_type": "code",
   "execution_count": 105,
   "metadata": {},
   "outputs": [],
   "source": [
    "for file in fileList:\n",
    "    processfile(file)"
   ]
  }
 ],
 "metadata": {
  "kernelspec": {
   "display_name": "Python 3",
   "language": "python",
   "name": "python3"
  },
  "language_info": {
   "codemirror_mode": {
    "name": "ipython",
    "version": 3
   },
   "file_extension": ".py",
   "mimetype": "text/x-python",
   "name": "python",
   "nbconvert_exporter": "python",
   "pygments_lexer": "ipython3",
   "version": "3.7.3"
  }
 },
 "nbformat": 4,
 "nbformat_minor": 2
}
