{
 "cells": [
  {
   "cell_type": "markdown",
   "metadata": {},
   "source": [
    "# about\n",
    "\n",
    "We initially clean up columns in the original file to make the format like the categorised file, then we shall process both files the same way to prepare the text for analysis.\n",
    "\n",
    "This script changes the format to match the categorised data\n",
    "## Input\n",
    "Original dataset has 4 columns\n",
    "\n",
    "`Bundle,Node ID,Revision ID,Body Text`\n",
    "\n",
    "There is no category information\n",
    "\n",
    "## Output:\n",
    "Output will have a 'uncategorised' in the category column, ? in the summary column and changed column names\n",
    "\n",
    "Columns:\n",
    "`NID,Body,Summary,Category`\n",
    "\n",
    "Summary is discarded at the next step in any case"
   ]
  },
  {
   "cell_type": "code",
   "execution_count": 1,
   "metadata": {},
   "outputs": [
    {
     "data": {
      "text/plain": [
       "'0.24.2'"
      ]
     },
     "execution_count": 1,
     "metadata": {},
     "output_type": "execute_result"
    }
   ],
   "source": [
    "import pandas as pd\n",
    "pd.__version__"
   ]
  },
  {
   "cell_type": "code",
   "execution_count": 2,
   "metadata": {},
   "outputs": [
    {
     "data": {
      "text/plain": [
       "'1.0'"
      ]
     },
     "execution_count": 2,
     "metadata": {},
     "output_type": "execute_result"
    }
   ],
   "source": [
    "import csv\n",
    "csv.__version__"
   ]
  },
  {
   "cell_type": "code",
   "execution_count": 3,
   "metadata": {},
   "outputs": [],
   "source": [
    "# load in the original dataset\n",
    "\n",
    "df = pd.DataFrame\n",
    "df = pd.read_csv(\"news_unclassified.csv\")"
   ]
  },
  {
   "cell_type": "code",
   "execution_count": 4,
   "metadata": {},
   "outputs": [],
   "source": [
    "df_out = pd.DataFrame (\n",
    "    {\n",
    "        \"NID\":df[\"Node ID\"],\n",
    "        \"Body\":df[\"Body Text\"],\n",
    "        \"Summary\":\"?\",\n",
    "        \"Category\":\"uncategorised\"\n",
    "    })\n",
    "\n",
    "\n",
    "df_out.to_csv(\n",
    "    \"./news_unclassified_prep.csv\", \n",
    "    index=False, \n",
    "    quoting=csv.QUOTE_NONNUMERIC\n",
    ")"
   ]
  }
 ],
 "metadata": {
  "kernelspec": {
   "display_name": "Python 3",
   "language": "python",
   "name": "python3"
  },
  "language_info": {
   "codemirror_mode": {
    "name": "ipython",
    "version": 3
   },
   "file_extension": ".py",
   "mimetype": "text/x-python",
   "name": "python",
   "nbconvert_exporter": "python",
   "pygments_lexer": "ipython3",
   "version": "3.7.3"
  }
 },
 "nbformat": 4,
 "nbformat_minor": 2
}
