{
 "cells": [
  {
   "cell_type": "markdown",
   "metadata": {},
   "source": [
    "# Open files in folder, process, save output files\n"
   ]
  },
  {
   "cell_type": "markdown",
   "metadata": {},
   "source": [
    "## Initialisation\n",
    "Load required modules"
   ]
  },
  {
   "cell_type": "code",
   "execution_count": 27,
   "metadata": {},
   "outputs": [
    {
     "data": {
      "text/plain": [
       "'0.24.2'"
      ]
     },
     "execution_count": 27,
     "metadata": {},
     "output_type": "execute_result"
    }
   ],
   "source": [
    "# initialisation\n",
    "\n",
    "import pandas as pd\n",
    "pd.__version__"
   ]
  },
  {
   "cell_type": "code",
   "execution_count": 28,
   "metadata": {},
   "outputs": [
    {
     "data": {
      "text/plain": [
       "'2.2.1'"
      ]
     },
     "execution_count": 28,
     "metadata": {},
     "output_type": "execute_result"
    }
   ],
   "source": [
    "import re\n",
    "re.__version__"
   ]
  },
  {
   "cell_type": "code",
   "execution_count": 29,
   "metadata": {},
   "outputs": [
    {
     "data": {
      "text/plain": [
       "'1.0'"
      ]
     },
     "execution_count": 29,
     "metadata": {},
     "output_type": "execute_result"
    }
   ],
   "source": [
    "import csv\n",
    "csv.__version__"
   ]
  },
  {
   "cell_type": "code",
   "execution_count": 30,
   "metadata": {},
   "outputs": [],
   "source": [
    "import os"
   ]
  },
  {
   "cell_type": "markdown",
   "metadata": {},
   "source": [
    "## Define functions"
   ]
  },
  {
   "cell_type": "raw",
   "metadata": {},
   "source": [
    "# filename = 'news20190320_out'\n",
    "filename = 'news_bodytext_20191002_prep_out'\n",
    "\n",
    "##\n",
    "# get the csv into pandas\n",
    "    \n",
    "df = pd.DataFrame\n",
    "df = pd.read_csv('./'+filename+'.csv')\n",
    "    \n",
    "# get the list of categories\n",
    "try:\n",
    "    categories = df.Category.unique()\n",
    "    catstring = '{'+', '.join('\"{0}\"'.format(cat) for cat in categories)+'}'\n",
    "except:\n",
    "    print (\"no list of categories\")\n",
    "    \n",
    "# write the dataframe with no headers\n",
    "df.to_csv('./'+filename+'_nohead.csv', index=False, quoting=csv.QUOTE_NONNUMERIC, header=False)\n",
    "\n",
    "csv_file_ref = open('./'+filename+'_nohead.csv', 'r')\n",
    "\n",
    "# write the arff file\n",
    "\n",
    "with open('./'+filename+'.arff', 'w') as f:\n",
    "    f.write('@relation '+filename)\n",
    "    f.write('''\n",
    "    \n",
    "@attribute Body string\n",
    "@attribute Category ''')\n",
    "    f.write(catstring)\n",
    "    f.write('''\n",
    "\n",
    "@data\n",
    "''')\n",
    "    f.write(csv_file_ref.read())\n",
    "    \n",
    "os.remove('./'+filename+'_nohead.csv')"
   ]
  },
  {
   "cell_type": "code",
   "execution_count": null,
   "metadata": {},
   "outputs": [],
   "source": []
  },
  {
   "cell_type": "code",
   "execution_count": 31,
   "metadata": {},
   "outputs": [],
   "source": [
    "#    filename = 'news20190320_out'\n",
    "    #filename = 'news_uncategorised_out'\n",
    "def write_arff(filename):\n",
    "    ##\n",
    "    # get the csv into pandas\n",
    "\n",
    "    df = pd.DataFrame\n",
    "    df = pd.read_csv('./'+filename+'.csv')\n",
    "\n",
    "    # get the list of categories\n",
    "    try:\n",
    "        categories = df.Category.unique()\n",
    "        catstring = '{'+', '.join('\"{0}\"'.format(cat) for cat in categories)+'}'\n",
    "    except:\n",
    "        print (\"no list of categories\")\n",
    "\n",
    "    # write the dataframe with no headers\n",
    "    df.to_csv('./'+filename+'_nohead.csv', index=False, quoting=csv.QUOTE_NONNUMERIC, header=False)\n",
    "\n",
    "    csv_file_ref = open('./'+filename+'_nohead.csv', 'r')\n",
    "\n",
    "    # write the arff file\n",
    "\n",
    "    with open('./'+filename+'.arff', 'w') as f:\n",
    "        f.write('@relation '+filename)\n",
    "        f.write('''\n",
    "\n",
    "    @attribute Body string\n",
    "    @attribute Category ''')\n",
    "        f.write(catstring)\n",
    "        f.write('''\n",
    "\n",
    "    @data\n",
    "    ''')\n",
    "        f.write(csv_file_ref.read())\n",
    "\n",
    "    os.remove('./'+filename+'_nohead.csv')"
   ]
  },
  {
   "cell_type": "code",
   "execution_count": 32,
   "metadata": {},
   "outputs": [],
   "source": [
    "# fileList = [\"news20190320_out\",\"news_uncategorised_out\"]\n",
    "\n",
    "fileList = [\n",
    "    \"news_bodytext_20191002_prep_out\"\n",
    "    ,\"news_unclassified_prep_out\"\n",
    "    ,\"news20190320_prep_out\"]\n",
    "\n",
    "\n",
    "for file in fileList:\n",
    "    write_arff (file)"
   ]
  }
 ],
 "metadata": {
  "kernelspec": {
   "display_name": "Python 3",
   "language": "python",
   "name": "python3"
  },
  "language_info": {
   "codemirror_mode": {
    "name": "ipython",
    "version": 3
   },
   "file_extension": ".py",
   "mimetype": "text/x-python",
   "name": "python",
   "nbconvert_exporter": "python",
   "pygments_lexer": "ipython3",
   "version": "3.7.3"
  }
 },
 "nbformat": 4,
 "nbformat_minor": 2
}
